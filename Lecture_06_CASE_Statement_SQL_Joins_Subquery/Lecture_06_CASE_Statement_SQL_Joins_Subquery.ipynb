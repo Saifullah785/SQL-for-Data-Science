{
  "nbformat": 4,
  "nbformat_minor": 0,
  "metadata": {
    "colab": {
      "provenance": [],
      "authorship_tag": "ABX9TyO32dT8WSzi0B6W5EwDc00y",
      "include_colab_link": true
    },
    "kernelspec": {
      "name": "python3",
      "display_name": "Python 3"
    },
    "language_info": {
      "name": "python"
    }
  },
  "cells": [
    {
      "cell_type": "markdown",
      "metadata": {
        "id": "view-in-github",
        "colab_type": "text"
      },
      "source": [
        "<a href=\"https://colab.research.google.com/github/Saifullah785/SQL-for-Data-Science/blob/main/Lecture_06_CASE_Statement_SQL_Joins_Subquery/Lecture_06_CASE_Statement_SQL_Joins_Subquery.ipynb\" target=\"_parent\"><img src=\"https://colab.research.google.com/assets/colab-badge.svg\" alt=\"Open In Colab\"/></a>"
      ]
    },
    {
      "cell_type": "markdown",
      "source": [
        "# **CASE STATEMENT**"
      ],
      "metadata": {
        "id": "1CWxG-VM9N-_"
      }
    },
    {
      "cell_type": "markdown",
      "source": [
        "SELECT name,(gross -budget) profit,\n",
        "\n",
        "CASE\n",
        "\n",
        "\tWHEN (gross-budget) > 100000000 THEN 'SUPER\n",
        "  \n",
        "  HIT'\n",
        "  \n",
        "    WHEN (gross-budget) > 250000000 AND\n",
        "    \n",
        "    (gross-budget)<1000000000 THEN \"HIT\"\n",
        "    \n",
        "    WHEN (gross-budget)> 0 AND (gross-budget)\n",
        "    \n",
        "    < 250000000 THEN\n",
        "\n",
        "'AVERAGE'\n",
        "\n",
        "\tELSE \"FLOP\"\n",
        "\n",
        "END AS verdict\n",
        "\n",
        "FROM movies"
      ],
      "metadata": {
        "id": "YvzK_nfk9YSB"
      }
    },
    {
      "cell_type": "markdown",
      "source": [
        "# **JOINS**"
      ],
      "metadata": {
        "id": "5mb9r7_CBMYx"
      }
    },
    {
      "cell_type": "markdown",
      "source": [
        "**1.Cartesian product**\n",
        "\n",
        "\n",
        "---\n",
        "\n",
        "\n",
        "\n",
        "SELECT * FROM users CROSS JOIN groups\n",
        "\n",
        "\n",
        "SELECT * FROM membership m JOIN users u ON\n",
        " m.uid = uid\n"
      ],
      "metadata": {
        "id": "k3sOILobBahX"
      }
    }
  ]
}